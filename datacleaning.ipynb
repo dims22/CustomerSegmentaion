{
 "cells": [
  {
   "cell_type": "code",
   "execution_count": 1,
   "id": "544d8e89-88de-4394-a1d0-1b7c77e37c58",
   "metadata": {
    "tags": []
   },
   "outputs": [],
   "source": [
    "import matplotlib.pyplot as plt\n",
    "import pandas as pd"
   ]
  },
  {
   "cell_type": "code",
   "execution_count": 3,
   "id": "75deca46-f95b-4adf-9cad-1ded0723a788",
   "metadata": {
    "tags": []
   },
   "outputs": [],
   "source": [
    "df = pd.read_csv(\"C:/Users/dimri/Downloads/data.csv\", encoding = 'latin-1')"
   ]
  },
  {
   "cell_type": "code",
   "execution_count": 5,
   "id": "ae260af7-8778-4789-b524-0ca8d4187383",
   "metadata": {
    "tags": []
   },
   "outputs": [
    {
     "name": "stdout",
     "output_type": "stream",
     "text": [
      "<class 'pandas.core.frame.DataFrame'>\n",
      "RangeIndex: 541909 entries, 0 to 541908\n",
      "Data columns (total 8 columns):\n",
      " #   Column       Non-Null Count   Dtype  \n",
      "---  ------       --------------   -----  \n",
      " 0   InvoiceNo    541909 non-null  object \n",
      " 1   StockCode    541909 non-null  object \n",
      " 2   Description  540455 non-null  object \n",
      " 3   Quantity     541909 non-null  int64  \n",
      " 4   InvoiceDate  541909 non-null  object \n",
      " 5   UnitPrice    541909 non-null  float64\n",
      " 6   CustomerID   406829 non-null  float64\n",
      " 7   Country      541909 non-null  object \n",
      "dtypes: float64(2), int64(1), object(5)\n",
      "memory usage: 33.1+ MB\n"
     ]
    }
   ],
   "source": [
    "df.info()"
   ]
  },
  {
   "cell_type": "code",
   "execution_count": 6,
   "id": "1e3d703f-ad02-462b-bd35-5fb307609f32",
   "metadata": {
    "tags": []
   },
   "outputs": [
    {
     "data": {
      "text/html": [
       "<style type=\"text/css\">\n",
       "#T_a97c6_row0_col0, #T_a97c6_row0_col7, #T_a97c6_row1_col0, #T_a97c6_row2_col1, #T_a97c6_row2_col2, #T_a97c6_row2_col3, #T_a97c6_row2_col4, #T_a97c6_row2_col5, #T_a97c6_row2_col6 {\n",
       "  background-color: #08306b;\n",
       "  color: #f1f1f1;\n",
       "}\n",
       "#T_a97c6_row0_col1, #T_a97c6_row0_col3, #T_a97c6_row0_col4, #T_a97c6_row0_col5, #T_a97c6_row0_col6, #T_a97c6_row1_col1, #T_a97c6_row1_col2, #T_a97c6_row1_col4, #T_a97c6_row1_col5, #T_a97c6_row1_col6, #T_a97c6_row2_col0, #T_a97c6_row2_col7 {\n",
       "  background-color: #f7fbff;\n",
       "  color: #000000;\n",
       "}\n",
       "#T_a97c6_row0_col2 {\n",
       "  background-color: #e8f1fa;\n",
       "  color: #000000;\n",
       "}\n",
       "#T_a97c6_row1_col3 {\n",
       "  background-color: #2171b5;\n",
       "  color: #f1f1f1;\n",
       "}\n",
       "#T_a97c6_row1_col7 {\n",
       "  background-color: #add0e6;\n",
       "  color: #000000;\n",
       "}\n",
       "</style>\n",
       "<table id=\"T_a97c6\">\n",
       "  <thead>\n",
       "    <tr>\n",
       "      <th class=\"blank level0\" >&nbsp;</th>\n",
       "      <th id=\"T_a97c6_level0_col0\" class=\"col_heading level0 col0\" >count</th>\n",
       "      <th id=\"T_a97c6_level0_col1\" class=\"col_heading level0 col1\" >mean</th>\n",
       "      <th id=\"T_a97c6_level0_col2\" class=\"col_heading level0 col2\" >std</th>\n",
       "      <th id=\"T_a97c6_level0_col3\" class=\"col_heading level0 col3\" >min</th>\n",
       "      <th id=\"T_a97c6_level0_col4\" class=\"col_heading level0 col4\" >25%</th>\n",
       "      <th id=\"T_a97c6_level0_col5\" class=\"col_heading level0 col5\" >50%</th>\n",
       "      <th id=\"T_a97c6_level0_col6\" class=\"col_heading level0 col6\" >75%</th>\n",
       "      <th id=\"T_a97c6_level0_col7\" class=\"col_heading level0 col7\" >max</th>\n",
       "    </tr>\n",
       "  </thead>\n",
       "  <tbody>\n",
       "    <tr>\n",
       "      <th id=\"T_a97c6_level0_row0\" class=\"row_heading level0 row0\" >Quantity</th>\n",
       "      <td id=\"T_a97c6_row0_col0\" class=\"data row0 col0\" >541909.000000</td>\n",
       "      <td id=\"T_a97c6_row0_col1\" class=\"data row0 col1\" >9.552250</td>\n",
       "      <td id=\"T_a97c6_row0_col2\" class=\"data row0 col2\" >218.081158</td>\n",
       "      <td id=\"T_a97c6_row0_col3\" class=\"data row0 col3\" >-80995.000000</td>\n",
       "      <td id=\"T_a97c6_row0_col4\" class=\"data row0 col4\" >1.000000</td>\n",
       "      <td id=\"T_a97c6_row0_col5\" class=\"data row0 col5\" >3.000000</td>\n",
       "      <td id=\"T_a97c6_row0_col6\" class=\"data row0 col6\" >10.000000</td>\n",
       "      <td id=\"T_a97c6_row0_col7\" class=\"data row0 col7\" >80995.000000</td>\n",
       "    </tr>\n",
       "    <tr>\n",
       "      <th id=\"T_a97c6_level0_row1\" class=\"row_heading level0 row1\" >UnitPrice</th>\n",
       "      <td id=\"T_a97c6_row1_col0\" class=\"data row1 col0\" >541909.000000</td>\n",
       "      <td id=\"T_a97c6_row1_col1\" class=\"data row1 col1\" >4.611114</td>\n",
       "      <td id=\"T_a97c6_row1_col2\" class=\"data row1 col2\" >96.759853</td>\n",
       "      <td id=\"T_a97c6_row1_col3\" class=\"data row1 col3\" >-11062.060000</td>\n",
       "      <td id=\"T_a97c6_row1_col4\" class=\"data row1 col4\" >1.250000</td>\n",
       "      <td id=\"T_a97c6_row1_col5\" class=\"data row1 col5\" >2.080000</td>\n",
       "      <td id=\"T_a97c6_row1_col6\" class=\"data row1 col6\" >4.130000</td>\n",
       "      <td id=\"T_a97c6_row1_col7\" class=\"data row1 col7\" >38970.000000</td>\n",
       "    </tr>\n",
       "    <tr>\n",
       "      <th id=\"T_a97c6_level0_row2\" class=\"row_heading level0 row2\" >CustomerID</th>\n",
       "      <td id=\"T_a97c6_row2_col0\" class=\"data row2 col0\" >406829.000000</td>\n",
       "      <td id=\"T_a97c6_row2_col1\" class=\"data row2 col1\" >15287.690570</td>\n",
       "      <td id=\"T_a97c6_row2_col2\" class=\"data row2 col2\" >1713.600303</td>\n",
       "      <td id=\"T_a97c6_row2_col3\" class=\"data row2 col3\" >12346.000000</td>\n",
       "      <td id=\"T_a97c6_row2_col4\" class=\"data row2 col4\" >13953.000000</td>\n",
       "      <td id=\"T_a97c6_row2_col5\" class=\"data row2 col5\" >15152.000000</td>\n",
       "      <td id=\"T_a97c6_row2_col6\" class=\"data row2 col6\" >16791.000000</td>\n",
       "      <td id=\"T_a97c6_row2_col7\" class=\"data row2 col7\" >18287.000000</td>\n",
       "    </tr>\n",
       "  </tbody>\n",
       "</table>\n"
      ],
      "text/plain": [
       "<pandas.io.formats.style.Styler at 0x1a49ab662f0>"
      ]
     },
     "execution_count": 6,
     "metadata": {},
     "output_type": "execute_result"
    }
   ],
   "source": [
    "df.describe().T.style.background_gradient(cmap='Blues')"
   ]
  },
  {
   "cell_type": "code",
   "execution_count": 7,
   "id": "02551b15-2b39-4875-b921-04397ecfcaf2",
   "metadata": {
    "tags": []
   },
   "outputs": [
    {
     "data": {
      "text/html": [
       "<div>\n",
       "<style scoped>\n",
       "    .dataframe tbody tr th:only-of-type {\n",
       "        vertical-align: middle;\n",
       "    }\n",
       "\n",
       "    .dataframe tbody tr th {\n",
       "        vertical-align: top;\n",
       "    }\n",
       "\n",
       "    .dataframe thead th {\n",
       "        text-align: right;\n",
       "    }\n",
       "</style>\n",
       "<table border=\"1\" class=\"dataframe\">\n",
       "  <thead>\n",
       "    <tr style=\"text-align: right;\">\n",
       "      <th></th>\n",
       "      <th>InvoiceNo</th>\n",
       "      <th>StockCode</th>\n",
       "      <th>Description</th>\n",
       "      <th>Quantity</th>\n",
       "      <th>InvoiceDate</th>\n",
       "      <th>UnitPrice</th>\n",
       "      <th>CustomerID</th>\n",
       "      <th>Country</th>\n",
       "    </tr>\n",
       "  </thead>\n",
       "  <tbody>\n",
       "    <tr>\n",
       "      <th>0</th>\n",
       "      <td>536365</td>\n",
       "      <td>85123A</td>\n",
       "      <td>WHITE HANGING HEART T-LIGHT HOLDER</td>\n",
       "      <td>6</td>\n",
       "      <td>12/1/2010 8:26</td>\n",
       "      <td>2.55</td>\n",
       "      <td>17850.0</td>\n",
       "      <td>United Kingdom</td>\n",
       "    </tr>\n",
       "    <tr>\n",
       "      <th>1</th>\n",
       "      <td>536365</td>\n",
       "      <td>71053</td>\n",
       "      <td>WHITE METAL LANTERN</td>\n",
       "      <td>6</td>\n",
       "      <td>12/1/2010 8:26</td>\n",
       "      <td>3.39</td>\n",
       "      <td>17850.0</td>\n",
       "      <td>United Kingdom</td>\n",
       "    </tr>\n",
       "    <tr>\n",
       "      <th>2</th>\n",
       "      <td>536365</td>\n",
       "      <td>84406B</td>\n",
       "      <td>CREAM CUPID HEARTS COAT HANGER</td>\n",
       "      <td>8</td>\n",
       "      <td>12/1/2010 8:26</td>\n",
       "      <td>2.75</td>\n",
       "      <td>17850.0</td>\n",
       "      <td>United Kingdom</td>\n",
       "    </tr>\n",
       "    <tr>\n",
       "      <th>3</th>\n",
       "      <td>536365</td>\n",
       "      <td>84029G</td>\n",
       "      <td>KNITTED UNION FLAG HOT WATER BOTTLE</td>\n",
       "      <td>6</td>\n",
       "      <td>12/1/2010 8:26</td>\n",
       "      <td>3.39</td>\n",
       "      <td>17850.0</td>\n",
       "      <td>United Kingdom</td>\n",
       "    </tr>\n",
       "    <tr>\n",
       "      <th>4</th>\n",
       "      <td>536365</td>\n",
       "      <td>84029E</td>\n",
       "      <td>RED WOOLLY HOTTIE WHITE HEART.</td>\n",
       "      <td>6</td>\n",
       "      <td>12/1/2010 8:26</td>\n",
       "      <td>3.39</td>\n",
       "      <td>17850.0</td>\n",
       "      <td>United Kingdom</td>\n",
       "    </tr>\n",
       "  </tbody>\n",
       "</table>\n",
       "</div>"
      ],
      "text/plain": [
       "  InvoiceNo StockCode                          Description  Quantity  \\\n",
       "0    536365    85123A   WHITE HANGING HEART T-LIGHT HOLDER         6   \n",
       "1    536365     71053                  WHITE METAL LANTERN         6   \n",
       "2    536365    84406B       CREAM CUPID HEARTS COAT HANGER         8   \n",
       "3    536365    84029G  KNITTED UNION FLAG HOT WATER BOTTLE         6   \n",
       "4    536365    84029E       RED WOOLLY HOTTIE WHITE HEART.         6   \n",
       "\n",
       "      InvoiceDate  UnitPrice  CustomerID         Country  \n",
       "0  12/1/2010 8:26       2.55     17850.0  United Kingdom  \n",
       "1  12/1/2010 8:26       3.39     17850.0  United Kingdom  \n",
       "2  12/1/2010 8:26       2.75     17850.0  United Kingdom  \n",
       "3  12/1/2010 8:26       3.39     17850.0  United Kingdom  \n",
       "4  12/1/2010 8:26       3.39     17850.0  United Kingdom  "
      ]
     },
     "execution_count": 7,
     "metadata": {},
     "output_type": "execute_result"
    }
   ],
   "source": [
    "df.head()"
   ]
  },
  {
   "cell_type": "code",
   "execution_count": 13,
   "id": "3a4c0272-b295-4f09-82de-b3e54bc2609e",
   "metadata": {
    "tags": []
   },
   "outputs": [
    {
     "data": {
      "text/html": [
       "<div>\n",
       "<style scoped>\n",
       "    .dataframe tbody tr th:only-of-type {\n",
       "        vertical-align: middle;\n",
       "    }\n",
       "\n",
       "    .dataframe tbody tr th {\n",
       "        vertical-align: top;\n",
       "    }\n",
       "\n",
       "    .dataframe thead th {\n",
       "        text-align: right;\n",
       "    }\n",
       "</style>\n",
       "<table border=\"1\" class=\"dataframe\">\n",
       "  <thead>\n",
       "    <tr style=\"text-align: right;\">\n",
       "      <th></th>\n",
       "      <th>InvoiceNo</th>\n",
       "      <th>StockCode</th>\n",
       "      <th>Description</th>\n",
       "      <th>Quantity</th>\n",
       "      <th>InvoiceDate</th>\n",
       "      <th>UnitPrice</th>\n",
       "      <th>CustomerID</th>\n",
       "      <th>Country</th>\n",
       "    </tr>\n",
       "  </thead>\n",
       "  <tbody>\n",
       "    <tr>\n",
       "      <th>540422</th>\n",
       "      <td>C581484</td>\n",
       "      <td>23843</td>\n",
       "      <td>PAPER CRAFT , LITTLE BIRDIE</td>\n",
       "      <td>-80995</td>\n",
       "      <td>12/9/2011 9:27</td>\n",
       "      <td>2.08</td>\n",
       "      <td>16446.0</td>\n",
       "      <td>United Kingdom</td>\n",
       "    </tr>\n",
       "    <tr>\n",
       "      <th>61624</th>\n",
       "      <td>C541433</td>\n",
       "      <td>23166</td>\n",
       "      <td>MEDIUM CERAMIC TOP STORAGE JAR</td>\n",
       "      <td>-74215</td>\n",
       "      <td>1/18/2011 10:17</td>\n",
       "      <td>1.04</td>\n",
       "      <td>12346.0</td>\n",
       "      <td>United Kingdom</td>\n",
       "    </tr>\n",
       "    <tr>\n",
       "      <th>225529</th>\n",
       "      <td>556690</td>\n",
       "      <td>23005</td>\n",
       "      <td>printing smudges/thrown away</td>\n",
       "      <td>-9600</td>\n",
       "      <td>6/14/2011 10:37</td>\n",
       "      <td>0.00</td>\n",
       "      <td>NaN</td>\n",
       "      <td>United Kingdom</td>\n",
       "    </tr>\n",
       "    <tr>\n",
       "      <th>225530</th>\n",
       "      <td>556691</td>\n",
       "      <td>23005</td>\n",
       "      <td>printing smudges/thrown away</td>\n",
       "      <td>-9600</td>\n",
       "      <td>6/14/2011 10:37</td>\n",
       "      <td>0.00</td>\n",
       "      <td>NaN</td>\n",
       "      <td>United Kingdom</td>\n",
       "    </tr>\n",
       "    <tr>\n",
       "      <th>4287</th>\n",
       "      <td>C536757</td>\n",
       "      <td>84347</td>\n",
       "      <td>ROTATING SILVER ANGELS T-LIGHT HLDR</td>\n",
       "      <td>-9360</td>\n",
       "      <td>12/2/2010 14:23</td>\n",
       "      <td>0.03</td>\n",
       "      <td>15838.0</td>\n",
       "      <td>United Kingdom</td>\n",
       "    </tr>\n",
       "    <tr>\n",
       "      <th>225528</th>\n",
       "      <td>556687</td>\n",
       "      <td>23003</td>\n",
       "      <td>Printing smudges/thrown away</td>\n",
       "      <td>-9058</td>\n",
       "      <td>6/14/2011 10:36</td>\n",
       "      <td>0.00</td>\n",
       "      <td>NaN</td>\n",
       "      <td>United Kingdom</td>\n",
       "    </tr>\n",
       "    <tr>\n",
       "      <th>115818</th>\n",
       "      <td>546152</td>\n",
       "      <td>72140F</td>\n",
       "      <td>throw away</td>\n",
       "      <td>-5368</td>\n",
       "      <td>3/9/2011 17:25</td>\n",
       "      <td>0.00</td>\n",
       "      <td>NaN</td>\n",
       "      <td>United Kingdom</td>\n",
       "    </tr>\n",
       "    <tr>\n",
       "      <th>431381</th>\n",
       "      <td>573596</td>\n",
       "      <td>79323W</td>\n",
       "      <td>Unsaleable, destroyed.</td>\n",
       "      <td>-4830</td>\n",
       "      <td>10/31/2011 15:17</td>\n",
       "      <td>0.00</td>\n",
       "      <td>NaN</td>\n",
       "      <td>United Kingdom</td>\n",
       "    </tr>\n",
       "    <tr>\n",
       "      <th>341601</th>\n",
       "      <td>566768</td>\n",
       "      <td>16045</td>\n",
       "      <td>NaN</td>\n",
       "      <td>-3667</td>\n",
       "      <td>9/14/2011 17:53</td>\n",
       "      <td>0.00</td>\n",
       "      <td>NaN</td>\n",
       "      <td>United Kingdom</td>\n",
       "    </tr>\n",
       "    <tr>\n",
       "      <th>323458</th>\n",
       "      <td>565304</td>\n",
       "      <td>16259</td>\n",
       "      <td>NaN</td>\n",
       "      <td>-3167</td>\n",
       "      <td>9/2/2011 12:18</td>\n",
       "      <td>0.00</td>\n",
       "      <td>NaN</td>\n",
       "      <td>United Kingdom</td>\n",
       "    </tr>\n",
       "  </tbody>\n",
       "</table>\n",
       "</div>"
      ],
      "text/plain": [
       "       InvoiceNo StockCode                          Description  Quantity  \\\n",
       "540422   C581484     23843          PAPER CRAFT , LITTLE BIRDIE    -80995   \n",
       "61624    C541433     23166       MEDIUM CERAMIC TOP STORAGE JAR    -74215   \n",
       "225529    556690     23005         printing smudges/thrown away     -9600   \n",
       "225530    556691     23005         printing smudges/thrown away     -9600   \n",
       "4287     C536757     84347  ROTATING SILVER ANGELS T-LIGHT HLDR     -9360   \n",
       "225528    556687     23003         Printing smudges/thrown away     -9058   \n",
       "115818    546152    72140F                           throw away     -5368   \n",
       "431381    573596    79323W               Unsaleable, destroyed.     -4830   \n",
       "341601    566768     16045                                  NaN     -3667   \n",
       "323458    565304     16259                                  NaN     -3167   \n",
       "\n",
       "             InvoiceDate  UnitPrice  CustomerID         Country  \n",
       "540422    12/9/2011 9:27       2.08     16446.0  United Kingdom  \n",
       "61624    1/18/2011 10:17       1.04     12346.0  United Kingdom  \n",
       "225529   6/14/2011 10:37       0.00         NaN  United Kingdom  \n",
       "225530   6/14/2011 10:37       0.00         NaN  United Kingdom  \n",
       "4287     12/2/2010 14:23       0.03     15838.0  United Kingdom  \n",
       "225528   6/14/2011 10:36       0.00         NaN  United Kingdom  \n",
       "115818    3/9/2011 17:25       0.00         NaN  United Kingdom  \n",
       "431381  10/31/2011 15:17       0.00         NaN  United Kingdom  \n",
       "341601   9/14/2011 17:53       0.00         NaN  United Kingdom  \n",
       "323458    9/2/2011 12:18       0.00         NaN  United Kingdom  "
      ]
     },
     "execution_count": 13,
     "metadata": {},
     "output_type": "execute_result"
    }
   ],
   "source": [
    "df.sort_values(by=['Quantity']).head(10)"
   ]
  },
  {
   "cell_type": "code",
   "execution_count": 15,
   "id": "3a35845c-2427-4c0e-8f12-2cf996ea3c73",
   "metadata": {
    "tags": []
   },
   "outputs": [],
   "source": [
    "drop_list = df[df['Quantity'] < -10000].index"
   ]
  },
  {
   "cell_type": "code",
   "execution_count": 17,
   "id": "020b8b51-6a1e-4189-bf36-814e0e942d9c",
   "metadata": {
    "tags": []
   },
   "outputs": [],
   "source": [
    "df.drop(index = drop_list, inplace = True)"
   ]
  },
  {
   "cell_type": "code",
   "execution_count": 28,
   "id": "b469d5c1-82af-43c2-844b-d067da5fd29f",
   "metadata": {
    "tags": []
   },
   "outputs": [
    {
     "data": {
      "text/plain": [
       "InvoiceNo      0\n",
       "StockCode      0\n",
       "Description    0\n",
       "Quantity       0\n",
       "InvoiceDate    0\n",
       "UnitPrice      0\n",
       "CustomerID     0\n",
       "Country        0\n",
       "dtype: int64"
      ]
     },
     "execution_count": 28,
     "metadata": {},
     "output_type": "execute_result"
    }
   ],
   "source": [
    "df.isna().sum()"
   ]
  },
  {
   "cell_type": "code",
   "execution_count": 22,
   "id": "2339845b-473b-4924-86d6-84da877cadf5",
   "metadata": {
    "tags": []
   },
   "outputs": [],
   "source": [
    "df.dropna(subset = ['CustomerID'], inplace = True)"
   ]
  },
  {
   "cell_type": "code",
   "execution_count": 25,
   "id": "9c7ca3c6-2a76-4557-ac09-60e4c4ed8403",
   "metadata": {
    "tags": []
   },
   "outputs": [
    {
     "name": "stdout",
     "output_type": "stream",
     "text": [
      "<class 'pandas.core.frame.DataFrame'>\n",
      "Index: 406827 entries, 0 to 541908\n",
      "Data columns (total 8 columns):\n",
      " #   Column       Non-Null Count   Dtype  \n",
      "---  ------       --------------   -----  \n",
      " 0   InvoiceNo    406827 non-null  object \n",
      " 1   StockCode    406827 non-null  object \n",
      " 2   Description  406827 non-null  object \n",
      " 3   Quantity     406827 non-null  int64  \n",
      " 4   InvoiceDate  406827 non-null  object \n",
      " 5   UnitPrice    406827 non-null  float64\n",
      " 6   CustomerID   406827 non-null  float64\n",
      " 7   Country      406827 non-null  object \n",
      "dtypes: float64(2), int64(1), object(5)\n",
      "memory usage: 27.9+ MB\n"
     ]
    }
   ],
   "source": [
    "df.info()"
   ]
  },
  {
   "cell_type": "code",
   "execution_count": 26,
   "id": "93838329-2cdd-438a-a49d-6bca326fa4ae",
   "metadata": {
    "tags": []
   },
   "outputs": [
    {
     "data": {
      "text/html": [
       "<div>\n",
       "<style scoped>\n",
       "    .dataframe tbody tr th:only-of-type {\n",
       "        vertical-align: middle;\n",
       "    }\n",
       "\n",
       "    .dataframe tbody tr th {\n",
       "        vertical-align: top;\n",
       "    }\n",
       "\n",
       "    .dataframe thead th {\n",
       "        text-align: right;\n",
       "    }\n",
       "</style>\n",
       "<table border=\"1\" class=\"dataframe\">\n",
       "  <thead>\n",
       "    <tr style=\"text-align: right;\">\n",
       "      <th></th>\n",
       "      <th>InvoiceNo</th>\n",
       "      <th>StockCode</th>\n",
       "      <th>Description</th>\n",
       "      <th>Quantity</th>\n",
       "      <th>InvoiceDate</th>\n",
       "      <th>UnitPrice</th>\n",
       "      <th>CustomerID</th>\n",
       "      <th>Country</th>\n",
       "    </tr>\n",
       "  </thead>\n",
       "  <tbody>\n",
       "    <tr>\n",
       "      <th>63682</th>\n",
       "      <td>541590</td>\n",
       "      <td>22937</td>\n",
       "      <td>BAKING MOULD CHOCOLATE CUPCAKES</td>\n",
       "      <td>6</td>\n",
       "      <td>1/19/2011 14:50</td>\n",
       "      <td>2.55</td>\n",
       "      <td>13310.0</td>\n",
       "      <td>United Kingdom</td>\n",
       "    </tr>\n",
       "    <tr>\n",
       "      <th>166565</th>\n",
       "      <td>550941</td>\n",
       "      <td>21175</td>\n",
       "      <td>GIN + TONIC DIET METAL SIGN</td>\n",
       "      <td>2</td>\n",
       "      <td>4/21/2011 15:46</td>\n",
       "      <td>2.55</td>\n",
       "      <td>17109.0</td>\n",
       "      <td>United Kingdom</td>\n",
       "    </tr>\n",
       "    <tr>\n",
       "      <th>168352</th>\n",
       "      <td>551028</td>\n",
       "      <td>22175</td>\n",
       "      <td>PINK OWL SOFT TOY</td>\n",
       "      <td>6</td>\n",
       "      <td>4/26/2011 11:30</td>\n",
       "      <td>2.95</td>\n",
       "      <td>13842.0</td>\n",
       "      <td>United Kingdom</td>\n",
       "    </tr>\n",
       "    <tr>\n",
       "      <th>56694</th>\n",
       "      <td>541110</td>\n",
       "      <td>72351B</td>\n",
       "      <td>SET/6 PINK  BUTTERFLY T-LIGHTS</td>\n",
       "      <td>4</td>\n",
       "      <td>1/13/2011 15:11</td>\n",
       "      <td>2.10</td>\n",
       "      <td>15916.0</td>\n",
       "      <td>United Kingdom</td>\n",
       "    </tr>\n",
       "    <tr>\n",
       "      <th>33286</th>\n",
       "      <td>539246</td>\n",
       "      <td>20757</td>\n",
       "      <td>RED DAISY POCKET BOOK</td>\n",
       "      <td>3</td>\n",
       "      <td>12/16/2010 13:33</td>\n",
       "      <td>0.85</td>\n",
       "      <td>14606.0</td>\n",
       "      <td>United Kingdom</td>\n",
       "    </tr>\n",
       "    <tr>\n",
       "      <th>88020</th>\n",
       "      <td>543747</td>\n",
       "      <td>21655</td>\n",
       "      <td>HANGING RIDGE GLASS T-LIGHT HOLDER</td>\n",
       "      <td>24</td>\n",
       "      <td>2/11/2011 13:53</td>\n",
       "      <td>1.69</td>\n",
       "      <td>13672.0</td>\n",
       "      <td>United Kingdom</td>\n",
       "    </tr>\n",
       "    <tr>\n",
       "      <th>285649</th>\n",
       "      <td>561915</td>\n",
       "      <td>20992</td>\n",
       "      <td>JAZZ HEARTS PURSE NOTEBOOK</td>\n",
       "      <td>8</td>\n",
       "      <td>8/1/2011 11:23</td>\n",
       "      <td>0.39</td>\n",
       "      <td>14408.0</td>\n",
       "      <td>United Kingdom</td>\n",
       "    </tr>\n",
       "    <tr>\n",
       "      <th>189239</th>\n",
       "      <td>553142</td>\n",
       "      <td>22844</td>\n",
       "      <td>VINTAGE CREAM DOG FOOD CONTAINER</td>\n",
       "      <td>2</td>\n",
       "      <td>5/13/2011 13:05</td>\n",
       "      <td>8.50</td>\n",
       "      <td>14527.0</td>\n",
       "      <td>United Kingdom</td>\n",
       "    </tr>\n",
       "    <tr>\n",
       "      <th>257092</th>\n",
       "      <td>559512</td>\n",
       "      <td>23203</td>\n",
       "      <td>JUMBO BAG DOILEY PATTERNS</td>\n",
       "      <td>20</td>\n",
       "      <td>7/8/2011 15:54</td>\n",
       "      <td>2.08</td>\n",
       "      <td>14188.0</td>\n",
       "      <td>United Kingdom</td>\n",
       "    </tr>\n",
       "    <tr>\n",
       "      <th>307327</th>\n",
       "      <td>563912</td>\n",
       "      <td>21465</td>\n",
       "      <td>PINK FLOWER CROCHET FOOD COVER</td>\n",
       "      <td>6</td>\n",
       "      <td>8/21/2011 12:58</td>\n",
       "      <td>3.75</td>\n",
       "      <td>17675.0</td>\n",
       "      <td>United Kingdom</td>\n",
       "    </tr>\n",
       "  </tbody>\n",
       "</table>\n",
       "</div>"
      ],
      "text/plain": [
       "       InvoiceNo StockCode                         Description  Quantity  \\\n",
       "63682     541590     22937     BAKING MOULD CHOCOLATE CUPCAKES         6   \n",
       "166565    550941     21175         GIN + TONIC DIET METAL SIGN         2   \n",
       "168352    551028     22175                   PINK OWL SOFT TOY         6   \n",
       "56694     541110    72351B      SET/6 PINK  BUTTERFLY T-LIGHTS         4   \n",
       "33286     539246     20757              RED DAISY POCKET BOOK          3   \n",
       "88020     543747     21655  HANGING RIDGE GLASS T-LIGHT HOLDER        24   \n",
       "285649    561915     20992          JAZZ HEARTS PURSE NOTEBOOK         8   \n",
       "189239    553142     22844    VINTAGE CREAM DOG FOOD CONTAINER         2   \n",
       "257092    559512     23203           JUMBO BAG DOILEY PATTERNS        20   \n",
       "307327    563912     21465      PINK FLOWER CROCHET FOOD COVER         6   \n",
       "\n",
       "             InvoiceDate  UnitPrice  CustomerID         Country  \n",
       "63682    1/19/2011 14:50       2.55     13310.0  United Kingdom  \n",
       "166565   4/21/2011 15:46       2.55     17109.0  United Kingdom  \n",
       "168352   4/26/2011 11:30       2.95     13842.0  United Kingdom  \n",
       "56694    1/13/2011 15:11       2.10     15916.0  United Kingdom  \n",
       "33286   12/16/2010 13:33       0.85     14606.0  United Kingdom  \n",
       "88020    2/11/2011 13:53       1.69     13672.0  United Kingdom  \n",
       "285649    8/1/2011 11:23       0.39     14408.0  United Kingdom  \n",
       "189239   5/13/2011 13:05       8.50     14527.0  United Kingdom  \n",
       "257092    7/8/2011 15:54       2.08     14188.0  United Kingdom  \n",
       "307327   8/21/2011 12:58       3.75     17675.0  United Kingdom  "
      ]
     },
     "execution_count": 26,
     "metadata": {},
     "output_type": "execute_result"
    }
   ],
   "source": [
    "df.sample(10)"
   ]
  },
  {
   "cell_type": "code",
   "execution_count": 30,
   "id": "2bae2eab-650a-4e36-91d7-6b5a572125e9",
   "metadata": {
    "tags": []
   },
   "outputs": [],
   "source": [
    "df['InvoiceDate'] = pd.to_datetime(df['InvoiceDate'])"
   ]
  },
  {
   "cell_type": "code",
   "execution_count": 42,
   "id": "58eac7ac-c228-41da-bb33-3f6d9680a649",
   "metadata": {
    "tags": []
   },
   "outputs": [],
   "source": [
    "df['CustomerID'] = df['CustomerID'].astype(int)"
   ]
  },
  {
   "cell_type": "code",
   "execution_count": 31,
   "id": "af266c3d-d446-408e-be2c-a879e132b422",
   "metadata": {
    "tags": []
   },
   "outputs": [
    {
     "name": "stdout",
     "output_type": "stream",
     "text": [
      "<class 'pandas.core.frame.DataFrame'>\n",
      "Index: 406827 entries, 0 to 541908\n",
      "Data columns (total 8 columns):\n",
      " #   Column       Non-Null Count   Dtype         \n",
      "---  ------       --------------   -----         \n",
      " 0   InvoiceNo    406827 non-null  object        \n",
      " 1   StockCode    406827 non-null  object        \n",
      " 2   Description  406827 non-null  object        \n",
      " 3   Quantity     406827 non-null  int64         \n",
      " 4   InvoiceDate  406827 non-null  datetime64[ns]\n",
      " 5   UnitPrice    406827 non-null  float64       \n",
      " 6   CustomerID   406827 non-null  float64       \n",
      " 7   Country      406827 non-null  object        \n",
      "dtypes: datetime64[ns](1), float64(2), int64(1), object(4)\n",
      "memory usage: 27.9+ MB\n"
     ]
    }
   ],
   "source": [
    "df.info()"
   ]
  },
  {
   "cell_type": "code",
   "execution_count": 33,
   "id": "5d1b948c-9e45-4ff6-b398-14cafef4384d",
   "metadata": {
    "tags": []
   },
   "outputs": [],
   "source": [
    "df['Date'] = df['InvoiceDate'].dt.date"
   ]
  },
  {
   "cell_type": "code",
   "execution_count": 35,
   "id": "cfc2d745-8682-4592-acc7-ad4f05cbdf26",
   "metadata": {
    "tags": []
   },
   "outputs": [],
   "source": [
    "df['Time'] = df['InvoiceDate'].dt.time"
   ]
  },
  {
   "cell_type": "code",
   "execution_count": 38,
   "id": "6edc9ef7-e914-41f8-a72b-09fa3f38bad0",
   "metadata": {
    "tags": []
   },
   "outputs": [],
   "source": [
    "df.drop(axis=1,columns = 'InvoiceDate', inplace = True)"
   ]
  },
  {
   "cell_type": "code",
   "execution_count": 39,
   "id": "8660f22f-591b-4fc3-9b56-ccacfe4ec673",
   "metadata": {
    "tags": []
   },
   "outputs": [
    {
     "data": {
      "text/html": [
       "<div>\n",
       "<style scoped>\n",
       "    .dataframe tbody tr th:only-of-type {\n",
       "        vertical-align: middle;\n",
       "    }\n",
       "\n",
       "    .dataframe tbody tr th {\n",
       "        vertical-align: top;\n",
       "    }\n",
       "\n",
       "    .dataframe thead th {\n",
       "        text-align: right;\n",
       "    }\n",
       "</style>\n",
       "<table border=\"1\" class=\"dataframe\">\n",
       "  <thead>\n",
       "    <tr style=\"text-align: right;\">\n",
       "      <th></th>\n",
       "      <th>InvoiceNo</th>\n",
       "      <th>StockCode</th>\n",
       "      <th>Description</th>\n",
       "      <th>Quantity</th>\n",
       "      <th>UnitPrice</th>\n",
       "      <th>CustomerID</th>\n",
       "      <th>Country</th>\n",
       "      <th>Date</th>\n",
       "      <th>Time</th>\n",
       "    </tr>\n",
       "  </thead>\n",
       "  <tbody>\n",
       "    <tr>\n",
       "      <th>162943</th>\n",
       "      <td>550525</td>\n",
       "      <td>85062</td>\n",
       "      <td>PEARL CRYSTAL PUMPKIN T-LIGHT HLDR</td>\n",
       "      <td>18</td>\n",
       "      <td>1.65</td>\n",
       "      <td>14672.0</td>\n",
       "      <td>United Kingdom</td>\n",
       "      <td>2011-04-19</td>\n",
       "      <td>10:19:00</td>\n",
       "    </tr>\n",
       "    <tr>\n",
       "      <th>28849</th>\n",
       "      <td>538661</td>\n",
       "      <td>22112</td>\n",
       "      <td>CHOCOLATE HOT WATER BOTTLE</td>\n",
       "      <td>15</td>\n",
       "      <td>4.95</td>\n",
       "      <td>15194.0</td>\n",
       "      <td>United Kingdom</td>\n",
       "      <td>2010-12-13</td>\n",
       "      <td>15:42:00</td>\n",
       "    </tr>\n",
       "    <tr>\n",
       "      <th>514836</th>\n",
       "      <td>C579748</td>\n",
       "      <td>23229</td>\n",
       "      <td>VINTAGE DONKEY TAIL GAME</td>\n",
       "      <td>-1</td>\n",
       "      <td>3.75</td>\n",
       "      <td>14875.0</td>\n",
       "      <td>United Kingdom</td>\n",
       "      <td>2011-11-30</td>\n",
       "      <td>14:41:00</td>\n",
       "    </tr>\n",
       "    <tr>\n",
       "      <th>491620</th>\n",
       "      <td>578068</td>\n",
       "      <td>23502</td>\n",
       "      <td>PLAYING CARDS VINTAGE DOILY</td>\n",
       "      <td>1</td>\n",
       "      <td>1.25</td>\n",
       "      <td>14505.0</td>\n",
       "      <td>United Kingdom</td>\n",
       "      <td>2011-11-22</td>\n",
       "      <td>15:45:00</td>\n",
       "    </tr>\n",
       "    <tr>\n",
       "      <th>52487</th>\n",
       "      <td>540798</td>\n",
       "      <td>22233</td>\n",
       "      <td>JIGSAW RABBIT AND BIRDHOUSE</td>\n",
       "      <td>3</td>\n",
       "      <td>1.65</td>\n",
       "      <td>17365.0</td>\n",
       "      <td>United Kingdom</td>\n",
       "      <td>2011-01-11</td>\n",
       "      <td>12:11:00</td>\n",
       "    </tr>\n",
       "  </tbody>\n",
       "</table>\n",
       "</div>"
      ],
      "text/plain": [
       "       InvoiceNo StockCode                         Description  Quantity  \\\n",
       "162943    550525     85062  PEARL CRYSTAL PUMPKIN T-LIGHT HLDR        18   \n",
       "28849     538661     22112          CHOCOLATE HOT WATER BOTTLE        15   \n",
       "514836   C579748     23229           VINTAGE DONKEY TAIL GAME         -1   \n",
       "491620    578068     23502        PLAYING CARDS VINTAGE DOILY          1   \n",
       "52487     540798     22233         JIGSAW RABBIT AND BIRDHOUSE         3   \n",
       "\n",
       "        UnitPrice  CustomerID         Country        Date      Time  \n",
       "162943       1.65     14672.0  United Kingdom  2011-04-19  10:19:00  \n",
       "28849        4.95     15194.0  United Kingdom  2010-12-13  15:42:00  \n",
       "514836       3.75     14875.0  United Kingdom  2011-11-30  14:41:00  \n",
       "491620       1.25     14505.0  United Kingdom  2011-11-22  15:45:00  \n",
       "52487        1.65     17365.0  United Kingdom  2011-01-11  12:11:00  "
      ]
     },
     "execution_count": 39,
     "metadata": {},
     "output_type": "execute_result"
    }
   ],
   "source": [
    "df.sample(5)"
   ]
  },
  {
   "cell_type": "code",
   "execution_count": 43,
   "id": "ced04685-6d89-4f14-aa93-76c4d75ff060",
   "metadata": {
    "tags": []
   },
   "outputs": [
    {
     "name": "stdout",
     "output_type": "stream",
     "text": [
      "<class 'pandas.core.frame.DataFrame'>\n",
      "Index: 406827 entries, 0 to 541908\n",
      "Data columns (total 9 columns):\n",
      " #   Column       Non-Null Count   Dtype  \n",
      "---  ------       --------------   -----  \n",
      " 0   InvoiceNo    406827 non-null  object \n",
      " 1   StockCode    406827 non-null  object \n",
      " 2   Description  406827 non-null  object \n",
      " 3   Quantity     406827 non-null  int64  \n",
      " 4   UnitPrice    406827 non-null  float64\n",
      " 5   CustomerID   406827 non-null  int32  \n",
      " 6   Country      406827 non-null  object \n",
      " 7   Date         406827 non-null  object \n",
      " 8   Time         406827 non-null  object \n",
      "dtypes: float64(1), int32(1), int64(1), object(6)\n",
      "memory usage: 29.5+ MB\n"
     ]
    }
   ],
   "source": [
    "df.info()"
   ]
  },
  {
   "cell_type": "code",
   "execution_count": 51,
   "id": "37715660-caf9-45b4-bfd0-d261ef8cd5f2",
   "metadata": {
    "tags": []
   },
   "outputs": [],
   "source": [
    "#df.to_csv('cust1.csv', encoding = \"utf-8\", index = False)"
   ]
  },
  {
   "cell_type": "code",
   "execution_count": null,
   "id": "18a94436-dad8-4742-b28c-0fa3a061fb01",
   "metadata": {},
   "outputs": [],
   "source": []
  }
 ],
 "metadata": {
  "kernelspec": {
   "display_name": "Python 3 (ipykernel)",
   "language": "python",
   "name": "python3"
  },
  "language_info": {
   "codemirror_mode": {
    "name": "ipython",
    "version": 3
   },
   "file_extension": ".py",
   "mimetype": "text/x-python",
   "name": "python",
   "nbconvert_exporter": "python",
   "pygments_lexer": "ipython3",
   "version": "3.10.11"
  }
 },
 "nbformat": 4,
 "nbformat_minor": 5
}
